{
 "cells": [
  {
   "cell_type": "markdown",
   "metadata": {
    "id": "sKPfuEnapDnU"
   },
   "source": [
    "# <font color=\"#FF80FF\"> Prática 01: Regressão Linear - Renda Média Brasileira </font>"
   ]
  },
  {
   "cell_type": "markdown",
   "metadata": {
    "id": "nKa5whanpntS"
   },
   "source": [
    "**Objetivos:**\n",
    "\n",
    "\n",
    "*   Implementar o algoritmo de Regressão Linear\n",
    "*   Fixar o conceito de regressão sobre dados e seus uso para previsão\n",
    "\n",
    "**Requisitos de execução:**\n",
    "\n",
    "\n",
    "*   Upload do arquivo *read_series.py*\n",
    "*   Criar o diretório *data* e upload do arquivo *renda_Brasil_2012_2020.csv* neste diretório"
   ]
  },
  {
   "cell_type": "markdown",
   "metadata": {
    "id": "OPCbV-Udr1Pz"
   },
   "source": [
    "**Atividade 1:**\n",
    "\n",
    "Leia a série temporal das rendas médias das famílias brasileiras contidas no arquivo *renda_Brasil_2012_2020.csv* e plote seus valores em um gráfico de dispersão.\n",
    "\n",
    "\n",
    "\n",
    "\n",
    "\n",
    "\n",
    "\n"
   ]
  },
  {
   "cell_type": "code",
   "execution_count": null,
   "metadata": {},
   "outputs": [],
   "source": [
    "!pip install read"
   ]
  },
  {
   "cell_type": "code",
   "execution_count": 1,
   "metadata": {
    "id": "ZROjmwlFocyd"
   },
   "outputs": [
    {
     "ename": "ModuleNotFoundError",
     "evalue": "No module named 'xlrd'",
     "output_type": "error",
     "traceback": [
      "\u001b[1;31m---------------------------------------------------------------------------\u001b[0m",
      "\u001b[1;31mModuleNotFoundError\u001b[0m                       Traceback (most recent call last)",
      "Cell \u001b[1;32mIn[1], line 1\u001b[0m\n\u001b[1;32m----> 1\u001b[0m \u001b[38;5;28;01mfrom\u001b[39;00m \u001b[38;5;21;01mread_series\u001b[39;00m \u001b[38;5;28;01mimport\u001b[39;00m ReadSeries\n\u001b[0;32m      2\u001b[0m \u001b[38;5;28;01mfrom\u001b[39;00m \u001b[38;5;21;01mmatplotlib\u001b[39;00m \u001b[38;5;28;01mimport\u001b[39;00m pyplot \u001b[38;5;28;01mas\u001b[39;00m plt\n\u001b[0;32m      3\u001b[0m \u001b[38;5;28;01mimport\u001b[39;00m \u001b[38;5;21;01mnumpy\u001b[39;00m \u001b[38;5;28;01mas\u001b[39;00m \u001b[38;5;21;01mnp\u001b[39;00m\n",
      "File \u001b[1;32mc:\\Users\\ingridf\\Documents\\GitHub\\Regressao_Linear-1\\read_series.py:1\u001b[0m\n\u001b[1;32m----> 1\u001b[0m \u001b[38;5;28;01mimport\u001b[39;00m \u001b[38;5;21;01mxlrd\u001b[39;00m\n\u001b[0;32m      2\u001b[0m \u001b[38;5;28;01mimport\u001b[39;00m \u001b[38;5;21;01mcsv\u001b[39;00m \n\u001b[0;32m      4\u001b[0m \u001b[38;5;28mdir\u001b[39m \u001b[38;5;241m=\u001b[39m \u001b[38;5;124m'\u001b[39m\u001b[38;5;124mdata/\u001b[39m\u001b[38;5;124m'\u001b[39m\n",
      "\u001b[1;31mModuleNotFoundError\u001b[0m: No module named 'xlrd'"
     ]
    }
   ],
   "source": [
    "from read_series import ReadSeries\n",
    "from matplotlib import pyplot as plt\n",
    "import numpy as np\n",
    "\n",
    "def config_plt():\n",
    "    fig, ax = plt.subplots()\n",
    "    #rotacionar os label do eixo x (datas)\n",
    "    for label in ax.get_xticklabels():\n",
    "        label.set_rotation(90*(-180/np.pi)+180)\n",
    "        \n",
    "    plt.ylabel('renda média(R$)')\n",
    "\n",
    "        \n",
    "data = []\n",
    "time = []\n",
    "rs = ReadSeries()\n",
    "rs.read_income_csv(data, time)\n",
    "\n",
    "_data = data[86:96]\n",
    "_timeLabel = time[86:96]\n",
    "_time = [i for i in range(len(_timeLabel))]\n",
    "\n",
    "_timePstring = time[96:]\n",
    "_timePredict = [i for i in range(len(_timeLabel) , len(_timeLabel)+len(_timePstring))]\n",
    "\n",
    "\n",
    "config_plt()\n",
    "\n",
    "plt.plot(_timeLabel, _data, 'r-*')\n",
    "plt.legend(['~f(.)'], loc=2)"
   ]
  },
  {
   "cell_type": "markdown",
   "metadata": {
    "id": "O73AMlZRtOTU"
   },
   "source": [
    "**Atividade 2:**\n",
    "\n",
    "Implemente o algoritmo de Regressão Linear que retorne o vetor de pesos $w=(X^TX)^{-1}X^Ty$"
   ]
  },
  {
   "cell_type": "code",
   "execution_count": null,
   "metadata": {
    "id": "sU9ugDeOtaHd"
   },
   "outputs": [],
   "source": [
    "class LinearRegression:\n",
    "    def fit(self, _X, _y):\n",
    "     \n",
    "    def predict(self, _x):\n",
    "     \n",
    "    def getW(self):\n",
    "        return self.w"
   ]
  },
  {
   "cell_type": "markdown",
   "metadata": {
    "id": "LWlIeFootavy"
   },
   "source": [
    "**Atividade 3:** \n",
    "\n",
    "1. Utilize o algoritmo de Regressão Linear para computar a função hipotese $h(x)=w^Tx$ e plote a mesma no gráfico de dispersão;\n",
    "2. Faça a previsão de 3 novos meses futuros e exiba esta previsão no gráfico."
   ]
  },
  {
   "cell_type": "code",
   "execution_count": null,
   "metadata": {
    "id": "1CEvKox1tsWj"
   },
   "outputs": [],
   "source": [
    "_timeRL = [[1, t] for t in _time]\n",
    "\n",
    "lr = LinearRegression()\n",
    "lr.fit(_timeRL, _data)\n",
    "\n",
    "_dataRL = lr.predict(_timeRL)\n",
    "\n",
    "_timeLabelForecast = time[96:]\n",
    "_timeForecast = [i for i in range(len(_timeLabel), len(_timeLabel) + len(_timeLabelForecast))]\n",
    "_dataForecast = lr.predict([[1, t] for t in _timeForecast])\n",
    "\n",
    "\n",
    "\n",
    "\n",
    "config_plt()\n",
    "    \n",
    "plt.plot(_timeLabel, _data, 'r-*')\n",
    "plt.plot(_timeLabel, _dataRL, 'k--')\n",
    "plt.plot(_timeLabelForecast, _dataForecast, 'b*')\n",
    "\n",
    "plt.legend(['~f(.)', 'h(.)', 'previsão'], loc=2)"
   ]
  },
  {
   "cell_type": "markdown",
   "metadata": {
    "id": "gGjfXNZ-tsor"
   },
   "source": [
    "**Atividade 4:**\n",
    "\n",
    "Reproduza o mesmo experimento utilizando a classe *LinearRegression* do pacote *sklearn*\n",
    "\n",
    "*from sklearn.linear_model import LinearRegression*\n"
   ]
  },
  {
   "cell_type": "code",
   "execution_count": null,
   "metadata": {
    "id": "jvw7C1Odt3Jb"
   },
   "outputs": [],
   "source": [
    "from sklearn.linear_model import LinearRegression\n",
    "\n"
   ]
  }
 ],
 "metadata": {
  "colab": {
   "authorship_tag": "ABX9TyOzIghUmO8QFeSmgAIL0Iyh",
   "collapsed_sections": [],
   "name": "Prática1_RendaMensal.ipynb",
   "provenance": [],
   "toc_visible": true
  },
  "kernelspec": {
   "display_name": "Python 3",
   "name": "python3"
  },
  "language_info": {
   "codemirror_mode": {
    "name": "ipython",
    "version": 3
   },
   "file_extension": ".py",
   "mimetype": "text/x-python",
   "name": "python",
   "nbconvert_exporter": "python",
   "pygments_lexer": "ipython3",
   "version": "3.12.9"
  }
 },
 "nbformat": 4,
 "nbformat_minor": 0
}
